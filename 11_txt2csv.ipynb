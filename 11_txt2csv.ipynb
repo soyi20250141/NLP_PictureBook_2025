{
  "nbformat": 4,
  "nbformat_minor": 0,
  "metadata": {
    "colab": {
      "provenance": [],
      "include_colab_link": true
    },
    "kernelspec": {
      "name": "python3",
      "display_name": "Python 3"
    },
    "language_info": {
      "name": "python"
    }
  },
  "cells": [
    {
      "cell_type": "markdown",
      "metadata": {
        "id": "view-in-github",
        "colab_type": "text"
      },
      "source": [
        "<a href=\"https://colab.research.google.com/github/soyi20250141/NLP_PictureBook_2025/blob/main/11_txt2csv.ipynb\" target=\"_parent\"><img src=\"https://colab.research.google.com/assets/colab-badge.svg\" alt=\"Open In Colab\"/></a>"
      ]
    },
    {
      "cell_type": "markdown",
      "source": [
        "## **📕 Children's Picture Books**\n",
        " - #### Project Gutenberg\n",
        "- #### 2 creators (Beatrix Potter & Leslie Brooke)\n",
        "\n",
        "### <font color = 'red'> **Original script for MK316's 📃 KSAT data process (as of 1005)**"
      ],
      "metadata": {
        "id": "w-c314VERd4P"
      }
    },
    {
      "cell_type": "markdown",
      "source": [
        "## Read data file from Github, Add string length, Number of splitted words (N_Splits)"
      ],
      "metadata": {
        "id": "woobI9SKRlHD"
      }
    },
    {
      "cell_type": "markdown",
      "source": [
        "###🐹🐾 **1️⃣ Pandas Library**"
      ],
      "metadata": {
        "id": "CBjBFKTsRrVM"
      }
    },
    {
      "cell_type": "code",
      "execution_count": null,
      "metadata": {
        "colab": {
          "base_uri": "https://localhost:8080/"
        },
        "id": "tcaFSi3cP_JJ",
        "outputId": "4c7a5e0c-02d8-4366-c6c9-03cba51a29e6"
      },
      "outputs": [
        {
          "output_type": "stream",
          "name": "stdout",
          "text": [
            "Requirement already satisfied: pandas in /usr/local/lib/python3.11/dist-packages (2.2.2)\n",
            "Requirement already satisfied: numpy>=1.23.2 in /usr/local/lib/python3.11/dist-packages (from pandas) (2.0.2)\n",
            "Requirement already satisfied: python-dateutil>=2.8.2 in /usr/local/lib/python3.11/dist-packages (from pandas) (2.9.0.post0)\n",
            "Requirement already satisfied: pytz>=2020.1 in /usr/local/lib/python3.11/dist-packages (from pandas) (2025.2)\n",
            "Requirement already satisfied: tzdata>=2022.7 in /usr/local/lib/python3.11/dist-packages (from pandas) (2025.2)\n",
            "Requirement already satisfied: six>=1.5 in /usr/local/lib/python3.11/dist-packages (from python-dateutil>=2.8.2->pandas) (1.17.0)\n",
            "Requirement already satisfied: lexical_diversity in /usr/local/lib/python3.11/dist-packages (0.1.1)\n"
          ]
        }
      ],
      "source": [
        "!pip install pandas\n",
        "!pip install lexical_diversity\n",
        "import pandas as pd #Import Pandas Package\n",
        "import lexical_diversity as ld"
      ]
    },
    {
      "cell_type": "markdown",
      "source": [
        "###🐹🐾 **2️⃣ Clone a repository on your github (Beware that the following code uses your instructor's github repository**"
      ],
      "metadata": {
        "id": "LUF15ab3R1a-"
      }
    },
    {
      "cell_type": "code",
      "source": [
        "!git clone 'https://github.com/ms624atyale/NLP_PictureBook_2025'"
      ],
      "metadata": {
        "colab": {
          "base_uri": "https://localhost:8080/"
        },
        "id": "trFWyiPGRclG",
        "outputId": "4d97abe8-54cb-47f6-b953-afcb54148f9b"
      },
      "execution_count": null,
      "outputs": [
        {
          "output_type": "stream",
          "name": "stdout",
          "text": [
            "Cloning into 'NLP_PictureBook_2025'...\n",
            "remote: Enumerating objects: 242, done.\u001b[K\n",
            "remote: Counting objects: 100% (121/121), done.\u001b[K\n",
            "remote: Compressing objects: 100% (105/105), done.\u001b[K\n",
            "remote: Total 242 (delta 70), reused 16 (delta 16), pack-reused 121 (from 1)\u001b[K\n",
            "Receiving objects: 100% (242/242), 1.19 MiB | 3.53 MiB/s, done.\n",
            "Resolving deltas: 100% (115/115), done.\n"
          ]
        }
      ]
    },
    {
      "cell_type": "markdown",
      "source": [
        "###🐹🐾 **3️⃣ Set your currant directory of your data folder where your txt file(s) are saved**\n",
        "\n",
        "- convert your txt file to matrix using DataFrame( ) class\n",
        "- set your current directory using %cd\n",
        "- save your data with DataFrame configure to csv(comma separated values)"
      ],
      "metadata": {
        "id": "--IeN8FFSDrm"
      }
    },
    {
      "cell_type": "markdown",
      "source": [
        "#💊 3️⃣ <font color = 'green'> **Avoid overlapping indecies**"
      ],
      "metadata": {
        "id": "x9_M3AaNapQ9"
      }
    },
    {
      "cell_type": "code",
      "source": [
        "import pandas as pd\n",
        "import glob\n",
        "\n",
        "# Change directory\n",
        "%cd /content/NLP_PictureBook_2025/Data_txt\n",
        "\n",
        "# Load all .txt files\n",
        "fns = glob.glob('*.txt')\n",
        "\n",
        "# List to hold each temporary DataFrame\n",
        "df_list = []\n",
        "\n",
        "# Load each file and append to list\n",
        "for fn in fns:\n",
        "    dftmp = pd.read_csv(fn, sep='@')\n",
        "    df_list.append(dftmp)\n",
        "\n",
        "# Concatenate all and reset index\n",
        "df = pd.concat(df_list, ignore_index=True)\n",
        "\n",
        "# Go back to main directory\n",
        "%cd /content\n",
        "\n",
        "# Save as CSV\n",
        "df.to_csv(\"./pg_2creators_each_text.csv\", index=False)\n",
        "\n",
        "# Display the DataFrame\n",
        "print(df)"
      ],
      "metadata": {
        "colab": {
          "base_uri": "https://localhost:8080/"
        },
        "id": "yC6Yd8pJaTQM",
        "outputId": "04754a7b-a5f1-4c97-a44f-6ea2e5f2102b"
      },
      "execution_count": null,
      "outputs": [
        {
          "output_type": "stream",
          "name": "stdout",
          "text": [
            "/content/NLP_PictureBook_2025/Data_txt\n",
            "/content\n",
            "                                                text  \\\n",
            "0  a carrion crow sat on an oak,   fol de riddle,...   \n",
            "1  there was once a man who had three sons, the y...   \n",
            "2  johnny crow would dig and sow  till he made a ...   \n",
            "3  the man in the moon.             the man in th...   \n",
            "4  one morning a little rabbit sat on a bank.  he...   \n",
            "5  a farmyard tale     for     ralph and betsy   ...   \n",
            "6  once upon a time there was a little girl calle...   \n",
            "7  once upon a time there were four little rabbit...   \n",
            "8  this is a tale about a tail--a tail that belon...   \n",
            "9  once upon a time there were three little kitte...   \n",
            "\n",
            "                               title          creator  \n",
            "0            the tailor and the crow    leslie brooke  \n",
            "1                   the golden goose   leslie brooke   \n",
            "2               johnny crow's garden    leslie brooke  \n",
            "3                    a nursery rhyme    leslie brooke  \n",
            "4         the tale of benjamin bunny   beatrix potter  \n",
            "5     the tale of jemima puddle-duck   beatrix potter  \n",
            "6      the tale of mrs. tiggy-winkle  beatrix potter   \n",
            "7  red riding hood and other stories   beatrix potter  \n",
            "8        the tale of squirrel nutkin  beatrix potter   \n",
            "9             the tale of tom kitten   beatrix potter  \n"
          ]
        }
      ]
    }
  ]
}